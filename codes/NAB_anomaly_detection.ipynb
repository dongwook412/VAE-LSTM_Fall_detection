{
  "nbformat": 4,
  "nbformat_minor": 0,
  "metadata": {
    "kernelspec": {
      "name": "python3",
      "display_name": "Python 3"
    },
    "colab": {
      "name": "NAB-anomaly-detection.ipynb",
      "provenance": [],
      "collapsed_sections": []
    },
    "accelerator": "GPU",
    "language_info": {
      "name": "python"
    }
  },
  "cells": [
    {
      "cell_type": "markdown",
      "metadata": {
        "id": "_-ke7Wu4nkH8"
      },
      "source": [
        "# 1. 필요한 Module 추가 및 기본 세팅"
      ]
    },
    {
      "cell_type": "code",
      "metadata": {
        "id": "qXZFhbVwITut",
        "colab": {
          "base_uri": "https://localhost:8080/"
        },
        "outputId": "0ce806ac-557b-46d5-9587-381be8e6d6f7"
      },
      "source": [
        "from google.colab import drive\n",
        "drive.mount('/content/drive')"
      ],
      "execution_count": null,
      "outputs": [
        {
          "output_type": "stream",
          "text": [
            "Drive already mounted at /content/drive; to attempt to forcibly remount, call drive.mount(\"/content/drive\", force_remount=True).\n"
          ],
          "name": "stdout"
        }
      ]
    },
    {
      "cell_type": "markdown",
      "metadata": {
        "id": "IiwDKpQAl10G"
      },
      "source": [
        "## 1.1. Colab의 경우 tensorflow version이 2.5.0이라서 논문에서 사용한 1.15.2 version으로 바꿔주기 위해 삭제"
      ]
    },
    {
      "cell_type": "code",
      "metadata": {
        "colab": {
          "base_uri": "https://localhost:8080/"
        },
        "id": "TrJS5WAkMIyN",
        "outputId": "bc1a6df1-f67f-443e-97a8-06c73bd25240"
      },
      "source": [
        "!pip uninstall tensorflow"
      ],
      "execution_count": null,
      "outputs": [
        {
          "output_type": "stream",
          "text": [
            "Uninstalling tensorflow-2.5.0:\n",
            "  Would remove:\n",
            "    /usr/local/bin/estimator_ckpt_converter\n",
            "    /usr/local/bin/import_pb_to_tensorboard\n",
            "    /usr/local/bin/saved_model_cli\n",
            "    /usr/local/bin/tensorboard\n",
            "    /usr/local/bin/tf_upgrade_v2\n",
            "    /usr/local/bin/tflite_convert\n",
            "    /usr/local/bin/toco\n",
            "    /usr/local/bin/toco_from_protos\n",
            "    /usr/local/lib/python3.7/dist-packages/tensorflow-2.5.0.dist-info/*\n",
            "    /usr/local/lib/python3.7/dist-packages/tensorflow/*\n",
            "Proceed (y/n)? y\n",
            "y\n",
            "  Successfully uninstalled tensorflow-2.5.0\n"
          ],
          "name": "stdout"
        }
      ]
    },
    {
      "cell_type": "markdown",
      "metadata": {
        "id": "IBq_MuNfmCwv"
      },
      "source": [
        "## 1.2. 논문에서 사용한 module 설치(requirements.txt)  \n",
        "### __반드시 이 부분 실행 후 Restart runtime 클릭해야 함!__"
      ]
    },
    {
      "cell_type": "code",
      "metadata": {
        "colab": {
          "base_uri": "https://localhost:8080/",
          "height": 1000
        },
        "id": "wnu8rT61imFy",
        "outputId": "c76551b1-0726-4998-910c-5c93d7f52455"
      },
      "source": [
        "!pip install -r '/content/drive/MyDrive/Colab Notebooks/Timeseries/Team_project/VAE-LSTM-for-anomaly-detection/requirements.txt'"
      ],
      "execution_count": null,
      "outputs": [
        {
          "output_type": "stream",
          "text": [
            "Requirement already satisfied: matplotlib in /usr/local/lib/python3.7/dist-packages (from -r /content/drive/MyDrive/Colab Notebooks/Timeseries/Team_project/VAE-LSTM-for-anomaly-detection/requirements.txt (line 3)) (3.2.2)\n",
            "Requirement already satisfied: sklearn in /usr/local/lib/python3.7/dist-packages (from -r /content/drive/MyDrive/Colab Notebooks/Timeseries/Team_project/VAE-LSTM-for-anomaly-detection/requirements.txt (line 4)) (0.0)\n",
            "Requirement already satisfied: scipy in /usr/local/lib/python3.7/dist-packages (from -r /content/drive/MyDrive/Colab Notebooks/Timeseries/Team_project/VAE-LSTM-for-anomaly-detection/requirements.txt (line 5)) (1.4.1)\n",
            "Requirement already satisfied: tqdm in /usr/local/lib/python3.7/dist-packages (from -r /content/drive/MyDrive/Colab Notebooks/Timeseries/Team_project/VAE-LSTM-for-anomaly-detection/requirements.txt (line 6)) (4.41.1)\n",
            "Collecting numpy==1.16.0\n",
            "\u001b[?25l  Downloading https://files.pythonhosted.org/packages/3d/10/62224c551acfd3a3583ad16d1e0f1c9e9c333e74479dc51977c31836119c/numpy-1.16.0-cp37-cp37m-manylinux1_x86_64.whl (17.3MB)\n",
            "\u001b[K     |████████████████████████████████| 17.3MB 192kB/s \n",
            "\u001b[?25hCollecting pandas==0.25.3\n",
            "\u001b[?25l  Downloading https://files.pythonhosted.org/packages/63/e0/a1b39cdcb2c391f087a1538bc8a6d62a82d0439693192aef541d7b123769/pandas-0.25.3-cp37-cp37m-manylinux1_x86_64.whl (10.4MB)\n",
            "\u001b[K     |████████████████████████████████| 10.4MB 48.1MB/s \n",
            "\u001b[?25hCollecting GPy==1.9.9\n",
            "\u001b[?25l  Downloading https://files.pythonhosted.org/packages/67/95/976598f98adbfa918a480cb2d643f93fb555ca5b6c5614f76b69678114c1/GPy-1.9.9.tar.gz (995kB)\n",
            "\u001b[K     |████████████████████████████████| 1.0MB 51.8MB/s \n",
            "\u001b[?25hCollecting munch==2.3.2\n",
            "  Downloading https://files.pythonhosted.org/packages/68/f4/260ec98ea840757a0da09e0ed8135333d59b8dfebe9752a365b04857660a/munch-2.3.2.tar.gz\n",
            "Collecting opencv-contrib-python==4.1.0.25\n",
            "\u001b[?25l  Downloading https://files.pythonhosted.org/packages/fd/c1/45d9db130d0095db7ea82513246064bb7194c9977670a312c493a2d7bfdc/opencv_contrib_python-4.1.0.25-cp37-cp37m-manylinux1_x86_64.whl (32.6MB)\n",
            "\u001b[K     |████████████████████████████████| 32.6MB 86kB/s \n",
            "\u001b[?25hCollecting tensorflow-gpu==1.15.2\n",
            "\u001b[?25l  Downloading https://files.pythonhosted.org/packages/92/42/7bddc0d5bc169596fbd13b6e1b844f832491ab671381e483da3bf5292ca9/tensorflow_gpu-1.15.2-cp37-cp37m-manylinux2010_x86_64.whl (410.9MB)\n",
            "\u001b[K     |████████████████████████████████| 411.0MB 39kB/s \n",
            "\u001b[?25hCollecting tensorflow_probability==0.7.0\n",
            "\u001b[?25l  Downloading https://files.pythonhosted.org/packages/3e/3a/c10b6c22320531c774402ac7186d1b673374e2a9d12502cbc8d811e4601c/tensorflow_probability-0.7.0-py2.py3-none-any.whl (981kB)\n",
            "\u001b[K     |████████████████████████████████| 983kB 45.9MB/s \n",
            "\u001b[?25hRequirement already satisfied: python-dateutil>=2.1 in /usr/local/lib/python3.7/dist-packages (from matplotlib->-r /content/drive/MyDrive/Colab Notebooks/Timeseries/Team_project/VAE-LSTM-for-anomaly-detection/requirements.txt (line 3)) (2.8.1)\n",
            "Requirement already satisfied: cycler>=0.10 in /usr/local/lib/python3.7/dist-packages (from matplotlib->-r /content/drive/MyDrive/Colab Notebooks/Timeseries/Team_project/VAE-LSTM-for-anomaly-detection/requirements.txt (line 3)) (0.10.0)\n",
            "Requirement already satisfied: pyparsing!=2.0.4,!=2.1.2,!=2.1.6,>=2.0.1 in /usr/local/lib/python3.7/dist-packages (from matplotlib->-r /content/drive/MyDrive/Colab Notebooks/Timeseries/Team_project/VAE-LSTM-for-anomaly-detection/requirements.txt (line 3)) (2.4.7)\n",
            "Requirement already satisfied: kiwisolver>=1.0.1 in /usr/local/lib/python3.7/dist-packages (from matplotlib->-r /content/drive/MyDrive/Colab Notebooks/Timeseries/Team_project/VAE-LSTM-for-anomaly-detection/requirements.txt (line 3)) (1.3.1)\n",
            "Requirement already satisfied: scikit-learn in /usr/local/lib/python3.7/dist-packages (from sklearn->-r /content/drive/MyDrive/Colab Notebooks/Timeseries/Team_project/VAE-LSTM-for-anomaly-detection/requirements.txt (line 4)) (0.22.2.post1)\n",
            "Requirement already satisfied: pytz>=2017.2 in /usr/local/lib/python3.7/dist-packages (from pandas==0.25.3->-r /content/drive/MyDrive/Colab Notebooks/Timeseries/Team_project/VAE-LSTM-for-anomaly-detection/requirements.txt (line 11)) (2018.9)\n",
            "Requirement already satisfied: six in /usr/local/lib/python3.7/dist-packages (from GPy==1.9.9->-r /content/drive/MyDrive/Colab Notebooks/Timeseries/Team_project/VAE-LSTM-for-anomaly-detection/requirements.txt (line 12)) (1.15.0)\n",
            "Collecting paramz>=0.9.0\n",
            "\u001b[?25l  Downloading https://files.pythonhosted.org/packages/d8/37/4abbeb78d30f20d3402887f46e6e9f3ef32034a9dea65d243654c82c8553/paramz-0.9.5.tar.gz (71kB)\n",
            "\u001b[K     |████████████████████████████████| 71kB 11.0MB/s \n",
            "\u001b[?25hCollecting gast==0.2.2\n",
            "  Downloading https://files.pythonhosted.org/packages/4e/35/11749bf99b2d4e3cceb4d55ca22590b0d7c2c62b9de38ac4a4a7f4687421/gast-0.2.2.tar.gz\n",
            "Collecting tensorboard<1.16.0,>=1.15.0\n",
            "\u001b[?25l  Downloading https://files.pythonhosted.org/packages/1e/e9/d3d747a97f7188f48aa5eda486907f3b345cd409f0a0850468ba867db246/tensorboard-1.15.0-py3-none-any.whl (3.8MB)\n",
            "\u001b[K     |████████████████████████████████| 3.8MB 39.6MB/s \n",
            "\u001b[?25hRequirement already satisfied: grpcio>=1.8.6 in /usr/local/lib/python3.7/dist-packages (from tensorflow-gpu==1.15.2->-r /content/drive/MyDrive/Colab Notebooks/Timeseries/Team_project/VAE-LSTM-for-anomaly-detection/requirements.txt (line 15)) (1.34.1)\n",
            "Requirement already satisfied: keras-preprocessing>=1.0.5 in /usr/local/lib/python3.7/dist-packages (from tensorflow-gpu==1.15.2->-r /content/drive/MyDrive/Colab Notebooks/Timeseries/Team_project/VAE-LSTM-for-anomaly-detection/requirements.txt (line 15)) (1.1.2)\n",
            "Requirement already satisfied: protobuf>=3.6.1 in /usr/local/lib/python3.7/dist-packages (from tensorflow-gpu==1.15.2->-r /content/drive/MyDrive/Colab Notebooks/Timeseries/Team_project/VAE-LSTM-for-anomaly-detection/requirements.txt (line 15)) (3.12.4)\n",
            "Requirement already satisfied: wheel>=0.26; python_version >= \"3\" in /usr/local/lib/python3.7/dist-packages (from tensorflow-gpu==1.15.2->-r /content/drive/MyDrive/Colab Notebooks/Timeseries/Team_project/VAE-LSTM-for-anomaly-detection/requirements.txt (line 15)) (0.36.2)\n",
            "Requirement already satisfied: opt-einsum>=2.3.2 in /usr/local/lib/python3.7/dist-packages (from tensorflow-gpu==1.15.2->-r /content/drive/MyDrive/Colab Notebooks/Timeseries/Team_project/VAE-LSTM-for-anomaly-detection/requirements.txt (line 15)) (3.3.0)\n",
            "Collecting keras-applications>=1.0.8\n",
            "\u001b[?25l  Downloading https://files.pythonhosted.org/packages/71/e3/19762fdfc62877ae9102edf6342d71b28fbfd9dea3d2f96a882ce099b03f/Keras_Applications-1.0.8-py3-none-any.whl (50kB)\n",
            "\u001b[K     |████████████████████████████████| 51kB 8.4MB/s \n",
            "\u001b[?25hCollecting tensorflow-estimator==1.15.1\n",
            "\u001b[?25l  Downloading https://files.pythonhosted.org/packages/de/62/2ee9cd74c9fa2fa450877847ba560b260f5d0fb70ee0595203082dafcc9d/tensorflow_estimator-1.15.1-py2.py3-none-any.whl (503kB)\n",
            "\u001b[K     |████████████████████████████████| 512kB 46.9MB/s \n",
            "\u001b[?25hRequirement already satisfied: astor>=0.6.0 in /usr/local/lib/python3.7/dist-packages (from tensorflow-gpu==1.15.2->-r /content/drive/MyDrive/Colab Notebooks/Timeseries/Team_project/VAE-LSTM-for-anomaly-detection/requirements.txt (line 15)) (0.8.1)\n",
            "Requirement already satisfied: wrapt>=1.11.1 in /usr/local/lib/python3.7/dist-packages (from tensorflow-gpu==1.15.2->-r /content/drive/MyDrive/Colab Notebooks/Timeseries/Team_project/VAE-LSTM-for-anomaly-detection/requirements.txt (line 15)) (1.12.1)\n",
            "Requirement already satisfied: google-pasta>=0.1.6 in /usr/local/lib/python3.7/dist-packages (from tensorflow-gpu==1.15.2->-r /content/drive/MyDrive/Colab Notebooks/Timeseries/Team_project/VAE-LSTM-for-anomaly-detection/requirements.txt (line 15)) (0.2.0)\n",
            "Requirement already satisfied: termcolor>=1.1.0 in /usr/local/lib/python3.7/dist-packages (from tensorflow-gpu==1.15.2->-r /content/drive/MyDrive/Colab Notebooks/Timeseries/Team_project/VAE-LSTM-for-anomaly-detection/requirements.txt (line 15)) (1.1.0)\n",
            "Requirement already satisfied: absl-py>=0.7.0 in /usr/local/lib/python3.7/dist-packages (from tensorflow-gpu==1.15.2->-r /content/drive/MyDrive/Colab Notebooks/Timeseries/Team_project/VAE-LSTM-for-anomaly-detection/requirements.txt (line 15)) (0.12.0)\n",
            "Requirement already satisfied: decorator in /usr/local/lib/python3.7/dist-packages (from tensorflow_probability==0.7.0->-r /content/drive/MyDrive/Colab Notebooks/Timeseries/Team_project/VAE-LSTM-for-anomaly-detection/requirements.txt (line 16)) (4.4.2)\n",
            "Requirement already satisfied: cloudpickle>=0.6.1 in /usr/local/lib/python3.7/dist-packages (from tensorflow_probability==0.7.0->-r /content/drive/MyDrive/Colab Notebooks/Timeseries/Team_project/VAE-LSTM-for-anomaly-detection/requirements.txt (line 16)) (1.3.0)\n",
            "Requirement already satisfied: joblib>=0.11 in /usr/local/lib/python3.7/dist-packages (from scikit-learn->sklearn->-r /content/drive/MyDrive/Colab Notebooks/Timeseries/Team_project/VAE-LSTM-for-anomaly-detection/requirements.txt (line 4)) (1.0.1)\n",
            "Requirement already satisfied: setuptools>=41.0.0 in /usr/local/lib/python3.7/dist-packages (from tensorboard<1.16.0,>=1.15.0->tensorflow-gpu==1.15.2->-r /content/drive/MyDrive/Colab Notebooks/Timeseries/Team_project/VAE-LSTM-for-anomaly-detection/requirements.txt (line 15)) (57.0.0)\n",
            "Requirement already satisfied: markdown>=2.6.8 in /usr/local/lib/python3.7/dist-packages (from tensorboard<1.16.0,>=1.15.0->tensorflow-gpu==1.15.2->-r /content/drive/MyDrive/Colab Notebooks/Timeseries/Team_project/VAE-LSTM-for-anomaly-detection/requirements.txt (line 15)) (3.3.4)\n",
            "Requirement already satisfied: werkzeug>=0.11.15 in /usr/local/lib/python3.7/dist-packages (from tensorboard<1.16.0,>=1.15.0->tensorflow-gpu==1.15.2->-r /content/drive/MyDrive/Colab Notebooks/Timeseries/Team_project/VAE-LSTM-for-anomaly-detection/requirements.txt (line 15)) (1.0.1)\n",
            "Requirement already satisfied: h5py in /usr/local/lib/python3.7/dist-packages (from keras-applications>=1.0.8->tensorflow-gpu==1.15.2->-r /content/drive/MyDrive/Colab Notebooks/Timeseries/Team_project/VAE-LSTM-for-anomaly-detection/requirements.txt (line 15)) (3.1.0)\n",
            "Requirement already satisfied: importlib-metadata; python_version < \"3.8\" in /usr/local/lib/python3.7/dist-packages (from markdown>=2.6.8->tensorboard<1.16.0,>=1.15.0->tensorflow-gpu==1.15.2->-r /content/drive/MyDrive/Colab Notebooks/Timeseries/Team_project/VAE-LSTM-for-anomaly-detection/requirements.txt (line 15)) (4.5.0)\n",
            "Requirement already satisfied: cached-property; python_version < \"3.8\" in /usr/local/lib/python3.7/dist-packages (from h5py->keras-applications>=1.0.8->tensorflow-gpu==1.15.2->-r /content/drive/MyDrive/Colab Notebooks/Timeseries/Team_project/VAE-LSTM-for-anomaly-detection/requirements.txt (line 15)) (1.5.2)\n",
            "Requirement already satisfied: typing-extensions>=3.6.4; python_version < \"3.8\" in /usr/local/lib/python3.7/dist-packages (from importlib-metadata; python_version < \"3.8\"->markdown>=2.6.8->tensorboard<1.16.0,>=1.15.0->tensorflow-gpu==1.15.2->-r /content/drive/MyDrive/Colab Notebooks/Timeseries/Team_project/VAE-LSTM-for-anomaly-detection/requirements.txt (line 15)) (3.7.4.3)\n",
            "Requirement already satisfied: zipp>=0.5 in /usr/local/lib/python3.7/dist-packages (from importlib-metadata; python_version < \"3.8\"->markdown>=2.6.8->tensorboard<1.16.0,>=1.15.0->tensorflow-gpu==1.15.2->-r /content/drive/MyDrive/Colab Notebooks/Timeseries/Team_project/VAE-LSTM-for-anomaly-detection/requirements.txt (line 15)) (3.4.1)\n",
            "Building wheels for collected packages: GPy, munch, paramz, gast\n",
            "  Building wheel for GPy (setup.py) ... \u001b[?25l\u001b[?25hdone\n",
            "  Created wheel for GPy: filename=GPy-1.9.9-cp37-cp37m-linux_x86_64.whl size=2627019 sha256=945e98339e23b7890df378150bea67177196d139a4d993e3430cbb1b3018c8b6\n",
            "  Stored in directory: /root/.cache/pip/wheels/5d/36/66/2b58860c84c9f2b51615da66bfd6feeddbc4e04d887ff96dfa\n",
            "  Building wheel for munch (setup.py) ... \u001b[?25l\u001b[?25hdone\n",
            "  Created wheel for munch: filename=munch-2.3.2-py2.py3-none-any.whl size=6630 sha256=4a291868fdfea5a10e08cb6385b7f81a723e07460ee05a052698c63fbe49763a\n",
            "  Stored in directory: /root/.cache/pip/wheels/db/bf/bc/06a3e1bfe0ab27d2e720ceb3cff3159398d92644c0cec2c125\n",
            "  Building wheel for paramz (setup.py) ... \u001b[?25l\u001b[?25hdone\n",
            "  Created wheel for paramz: filename=paramz-0.9.5-cp37-none-any.whl size=102566 sha256=bcd19a878b876a9cff850166d71bd84e9c2f7e921b240618d0b1365d5d65705f\n",
            "  Stored in directory: /root/.cache/pip/wheels/c8/4a/0e/6e0dc85541825f991c431619e25b870d4b812c911214690cf8\n",
            "  Building wheel for gast (setup.py) ... \u001b[?25l\u001b[?25hdone\n",
            "  Created wheel for gast: filename=gast-0.2.2-cp37-none-any.whl size=7557 sha256=3bb2a61462b1bca6a2cdee3333ccec9890a7bf35ec348339cb66af8f2ac296a1\n",
            "  Stored in directory: /root/.cache/pip/wheels/5c/2e/7e/a1d4d4fcebe6c381f378ce7743a3ced3699feb89bcfbdadadd\n",
            "Successfully built GPy munch paramz gast\n",
            "\u001b[31mERROR: kapre 0.3.5 requires tensorflow>=2.0.0, which is not installed.\u001b[0m\n",
            "\u001b[31mERROR: xarray 0.18.2 has requirement numpy>=1.17, but you'll have numpy 1.16.0 which is incompatible.\u001b[0m\n",
            "\u001b[31mERROR: xarray 0.18.2 has requirement pandas>=1.0, but you'll have pandas 0.25.3 which is incompatible.\u001b[0m\n",
            "\u001b[31mERROR: pyerfa 2.0.0 has requirement numpy>=1.17, but you'll have numpy 1.16.0 which is incompatible.\u001b[0m\n",
            "\u001b[31mERROR: pyarrow 3.0.0 has requirement numpy>=1.16.6, but you'll have numpy 1.16.0 which is incompatible.\u001b[0m\n",
            "\u001b[31mERROR: kapre 0.3.5 has requirement numpy>=1.18.5, but you'll have numpy 1.16.0 which is incompatible.\u001b[0m\n",
            "\u001b[31mERROR: google-colab 1.0.0 has requirement pandas~=1.1.0; python_version >= \"3.0\", but you'll have pandas 0.25.3 which is incompatible.\u001b[0m\n",
            "\u001b[31mERROR: fbprophet 0.7.1 has requirement pandas>=1.0.4, but you'll have pandas 0.25.3 which is incompatible.\u001b[0m\n",
            "\u001b[31mERROR: datascience 0.10.6 has requirement folium==0.2.1, but you'll have folium 0.8.3 which is incompatible.\u001b[0m\n",
            "\u001b[31mERROR: cupy-cuda101 9.1.0 has requirement numpy>=1.17, but you'll have numpy 1.16.0 which is incompatible.\u001b[0m\n",
            "\u001b[31mERROR: astropy 4.2.1 has requirement numpy>=1.17, but you'll have numpy 1.16.0 which is incompatible.\u001b[0m\n",
            "\u001b[31mERROR: albumentations 0.1.12 has requirement imgaug<0.2.7,>=0.2.5, but you'll have imgaug 0.2.9 which is incompatible.\u001b[0m\n",
            "Installing collected packages: numpy, pandas, paramz, GPy, munch, opencv-contrib-python, gast, tensorboard, keras-applications, tensorflow-estimator, tensorflow-gpu, tensorflow-probability\n",
            "  Found existing installation: numpy 1.19.5\n",
            "    Uninstalling numpy-1.19.5:\n",
            "      Successfully uninstalled numpy-1.19.5\n",
            "  Found existing installation: pandas 1.1.5\n",
            "    Uninstalling pandas-1.1.5:\n",
            "      Successfully uninstalled pandas-1.1.5\n",
            "  Found existing installation: opencv-contrib-python 4.1.2.30\n",
            "    Uninstalling opencv-contrib-python-4.1.2.30:\n",
            "      Successfully uninstalled opencv-contrib-python-4.1.2.30\n",
            "  Found existing installation: gast 0.4.0\n",
            "    Uninstalling gast-0.4.0:\n",
            "      Successfully uninstalled gast-0.4.0\n",
            "  Found existing installation: tensorboard 2.5.0\n",
            "    Uninstalling tensorboard-2.5.0:\n",
            "      Successfully uninstalled tensorboard-2.5.0\n",
            "  Found existing installation: tensorflow-estimator 2.5.0\n",
            "    Uninstalling tensorflow-estimator-2.5.0:\n",
            "      Successfully uninstalled tensorflow-estimator-2.5.0\n",
            "  Found existing installation: tensorflow-probability 0.12.1\n",
            "    Uninstalling tensorflow-probability-0.12.1:\n",
            "      Successfully uninstalled tensorflow-probability-0.12.1\n",
            "Successfully installed GPy-1.9.9 gast-0.2.2 keras-applications-1.0.8 munch-2.3.2 numpy-1.16.0 opencv-contrib-python-4.1.0.25 pandas-0.25.3 paramz-0.9.5 tensorboard-1.15.0 tensorflow-estimator-1.15.1 tensorflow-gpu-1.15.2 tensorflow-probability-0.7.0\n"
          ],
          "name": "stdout"
        },
        {
          "output_type": "display_data",
          "data": {
            "application/vnd.colab-display-data+json": {
              "pip_warning": {
                "packages": [
                  "numpy",
                  "pandas"
                ]
              }
            }
          },
          "metadata": {
            "tags": []
          }
        }
      ]
    },
    {
      "cell_type": "code",
      "metadata": {
        "colab": {
          "base_uri": "https://localhost:8080/"
        },
        "id": "PQl4_y-bsFNJ",
        "outputId": "d27f4fe7-c081-40b9-a06e-710254c0b39a"
      },
      "source": [
        "import tensorflow as tf\n",
        "print(tf.__version__)"
      ],
      "execution_count": null,
      "outputs": [
        {
          "output_type": "stream",
          "text": [
            "1.15.2\n"
          ],
          "name": "stdout"
        }
      ]
    },
    {
      "cell_type": "code",
      "metadata": {
        "id": "Ik3vEgUasG-_"
      },
      "source": [
        "import warnings\n",
        "\n",
        "def fxn():\n",
        "    warnings.warn(\"deprecated\", DeprecationWarning)\n",
        "\n",
        "with warnings.catch_warnings():\n",
        "    warnings.simplefilter(\"ignore\")\n",
        "    fxn()"
      ],
      "execution_count": null,
      "outputs": []
    },
    {
      "cell_type": "code",
      "metadata": {
        "id": "mA-jTExuGf1t"
      },
      "source": [
        "import tensorflow as tf\n",
        "import tensorflow_probability as tfp\n",
        "import numpy as np\n",
        "import matplotlib.pylab as plt\n",
        "from matplotlib.pyplot import plot, ion, show, savefig, cla, figure\n",
        "import random\n",
        "import time\n",
        "\n",
        "# 논문에서 만든 module 사용하기 위해 추가\n",
        "import sys\n",
        "sys.path.append('/content/drive/MyDrive/Colab Notebooks/Timeseries/Team_project/VAE-LSTM-for-anomaly-detection/codes')\n",
        "\n",
        "import os\n",
        "os.environ[\"CUDA_DEVICE_ORDER\"]=\"PCI_BUS_ID\"   # see issue #152\n",
        "os.environ[\"CUDA_VISIBLE_DEVICES\"]=\"0\"\n",
        "\n",
        "from data_loader import DataGenerator\n",
        "from models import VAEmodel, lstmKerasModel\n",
        "from trainers import vaeTrainer\n",
        "from utils import process_config, create_dirs, get_args"
      ],
      "execution_count": null,
      "outputs": []
    },
    {
      "cell_type": "code",
      "metadata": {
        "colab": {
          "base_uri": "https://localhost:8080/"
        },
        "id": "7BeQzCVdGf1v",
        "outputId": "7a18fe11-6191-4c08-db4b-80628725e71e"
      },
      "source": [
        "from tensorflow.python.client import device_lib\n",
        "\n",
        "def get_available_gpus():\n",
        "    local_device_protos = device_lib.list_local_devices()\n",
        "    return [x.name for x in local_device_protos if x.device_type == 'GPU']\n",
        "\n",
        "print(get_available_gpus())"
      ],
      "execution_count": null,
      "outputs": [
        {
          "output_type": "stream",
          "text": [
            "['/device:GPU:0']\n"
          ],
          "name": "stdout"
        }
      ]
    },
    {
      "cell_type": "markdown",
      "metadata": {
        "id": "H8k-BzLEnZEN"
      },
      "source": [
        "# 2. 모델 불러오기"
      ]
    },
    {
      "cell_type": "markdown",
      "metadata": {
        "id": "tje-XUaVnx9p"
      },
      "source": [
        "## 2.1. VAE 모델 불러오기"
      ]
    },
    {
      "cell_type": "code",
      "metadata": {
        "colab": {
          "base_uri": "https://localhost:8080/",
          "height": 1000
        },
        "id": "cWJTODbeGf1w",
        "outputId": "804b5634-3d94-4d5a-fde0-ff3b9aa05f8d"
      },
      "source": [
        "# load VAE model\n",
        "config = process_config('/content/drive/MyDrive/Colab Notebooks/Timeseries/Team_project/VAE-LSTM-for-anomaly-detection/codes/NAB_config.json')\n",
        "# create the experiments dirs\n",
        "create_dirs([config['result_dir'], config['checkpoint_dir']])\n",
        "# create tensorflow session\n",
        "sess = tf.Session(config=tf.ConfigProto(log_device_placement=True))\n",
        "# create your data generator\n",
        "data = DataGenerator(config)\n",
        "# create a CNN model\n",
        "model_vae = VAEmodel(config)\n",
        "trainer_vae = vaeTrainer(sess, model_vae, data, config)\n",
        "model_vae.load(sess)"
      ],
      "execution_count": null,
      "outputs": [
        {
          "output_type": "stream",
          "text": [
            "Device mapping:\n",
            "/job:localhost/replica:0/task:0/device:XLA_CPU:0 -> device: XLA_CPU device\n",
            "/job:localhost/replica:0/task:0/device:XLA_GPU:0 -> device: XLA_GPU device\n",
            "/job:localhost/replica:0/task:0/device:GPU:0 -> device: 0, name: Tesla T4, pci bus id: 0000:00:04.0, compute capability: 7.5\n",
            "\n",
            "[Data loader 1]\n",
            "[Data loader 2]\n",
            "[Data loader 3]\n",
            "[Data loader 4]\n",
            "[Data loader 6]\n",
            "WARNING:tensorflow:From /content/drive/MyDrive/Colab Notebooks/Timeseries/Team_project/VAE-LSTM-for-anomaly-detection/codes/base.py:61: The name tf.variable_scope is deprecated. Please use tf.compat.v1.variable_scope instead.\n",
            "\n",
            "WARNING:tensorflow:From /content/drive/MyDrive/Colab Notebooks/Timeseries/Team_project/VAE-LSTM-for-anomaly-detection/codes/base.py:63: The name tf.assign is deprecated. Please use tf.compat.v1.assign instead.\n",
            "\n",
            "WARNING:tensorflow:From /content/drive/MyDrive/Colab Notebooks/Timeseries/Team_project/VAE-LSTM-for-anomaly-detection/codes/models.py:25: The name tf.placeholder is deprecated. Please use tf.compat.v1.placeholder instead.\n",
            "\n",
            "WARNING:tensorflow:From /usr/local/lib/python3.7/dist-packages/tensorflow_core/python/data/util/random_seed.py:58: where (from tensorflow.python.ops.array_ops) is deprecated and will be removed in a future version.\n",
            "Instructions for updating:\n",
            "Use tf.where in 2.0, which has the same broadcast rule as np.where\n",
            "WARNING:tensorflow:From /content/drive/MyDrive/Colab Notebooks/Timeseries/Team_project/VAE-LSTM-for-anomaly-detection/codes/models.py:31: DatasetV1.make_initializable_iterator (from tensorflow.python.data.ops.dataset_ops) is deprecated and will be removed in a future version.\n",
            "Instructions for updating:\n",
            "Use `for ... in dataset:` to iterate over a dataset. If using `tf.estimator`, return the `Dataset` object directly from your input function. As a last resort, you can use `tf.compat.v1.data.make_initializable_iterator(dataset)`.\n",
            "WARNING:tensorflow:\n",
            "The TensorFlow contrib module will not be included in TensorFlow 2.0.\n",
            "For more information, please see:\n",
            "  * https://github.com/tensorflow/community/blob/master/rfcs/20180907-contrib-sunset.md\n",
            "  * https://github.com/tensorflow/addons\n",
            "  * https://github.com/tensorflow/io (for I/O related ops)\n",
            "If you depend on functionality not listed there, please file an issue.\n",
            "\n",
            "WARNING:tensorflow:From /content/drive/MyDrive/Colab Notebooks/Timeseries/Team_project/VAE-LSTM-for-anomaly-detection/codes/models.py:48: conv2d (from tensorflow.python.layers.convolutional) is deprecated and will be removed in a future version.\n",
            "Instructions for updating:\n",
            "Use `tf.keras.layers.Conv2D` instead.\n",
            "WARNING:tensorflow:From /usr/local/lib/python3.7/dist-packages/tensorflow_core/python/layers/convolutional.py:424: Layer.apply (from tensorflow.python.keras.engine.base_layer) is deprecated and will be removed in a future version.\n",
            "Instructions for updating:\n",
            "Please use `layer.__call__` method instead.\n",
            "conv_1: Tensor(\"encoder/conv2d/LeakyRelu:0\", shape=(?, 16, 1, 32), dtype=float32)\n",
            "conv_2: Tensor(\"encoder/conv2d_1/LeakyRelu:0\", shape=(?, 8, 1, 64), dtype=float32)\n",
            "conv_3: Tensor(\"encoder/conv2d_2/LeakyRelu:0\", shape=(?, 4, 1, 128), dtype=float32)\n",
            "conv_4: Tensor(\"encoder/conv2d_3/LeakyRelu:0\", shape=(?, 1, 1, 512), dtype=float32)\n",
            "WARNING:tensorflow:From /content/drive/MyDrive/Colab Notebooks/Timeseries/Team_project/VAE-LSTM-for-anomaly-detection/codes/models.py:141: flatten (from tensorflow.python.layers.core) is deprecated and will be removed in a future version.\n",
            "Instructions for updating:\n",
            "Use keras.layers.flatten instead.\n",
            "WARNING:tensorflow:From /content/drive/MyDrive/Colab Notebooks/Timeseries/Team_project/VAE-LSTM-for-anomaly-detection/codes/models.py:145: dense (from tensorflow.python.layers.core) is deprecated and will be removed in a future version.\n",
            "Instructions for updating:\n",
            "Use keras.layers.Dense instead.\n",
            "finish encoder: \n",
            "Tensor(\"encoder/MultivariateNormalDiag/sample/affine_linear_operator/forward/add:0\", shape=(?, 10), dtype=float32)\n",
            "\n",
            "\n",
            "decoded_2 is: Tensor(\"decoder/Reshape_1:0\", shape=(?, 4, 1, 128), dtype=float32)\n",
            "decoded_3 is: Tensor(\"decoder/Reshape_2:0\", shape=(?, 8, 1, 64), dtype=float32)\n",
            "decoded_4 is: Tensor(\"decoder/Reshape_3:0\", shape=(?, 16, 1, 32), dtype=float32)\n",
            "decoded_5 is: Tensor(\"decoder/Reshape_4:0\", shape=(?, 32, 1, 16), dtype=float32)\n",
            "decoded_6 is: Tensor(\"decoder/conv2d_4/BiasAdd:0\", shape=(?, 24, 1, 1), dtype=float32)\n",
            "finish decoder: \n",
            "Tensor(\"decoder/Reshape_5:0\", shape=(?, 24, 1), dtype=float32)\n",
            "\n",
            "\n",
            "sigma2: \n",
            "Tensor(\"sigma2_dataset/add:0\", shape=(), dtype=float32)\n",
            "\n",
            "WARNING:tensorflow:From /content/drive/MyDrive/Colab Notebooks/Timeseries/Team_project/VAE-LSTM-for-anomaly-detection/codes/base.py:72: The name tf.log is deprecated. Please use tf.math.log instead.\n",
            "\n",
            "WARNING:tensorflow:From /content/drive/MyDrive/Colab Notebooks/Timeseries/Team_project/VAE-LSTM-for-anomaly-detection/codes/base.py:96: The name tf.get_collection is deprecated. Please use tf.compat.v1.get_collection instead.\n",
            "\n",
            "WARNING:tensorflow:From /content/drive/MyDrive/Colab Notebooks/Timeseries/Team_project/VAE-LSTM-for-anomaly-detection/codes/base.py:96: The name tf.GraphKeys is deprecated. Please use tf.compat.v1.GraphKeys instead.\n",
            "\n",
            "WARNING:tensorflow:From /content/drive/MyDrive/Colab Notebooks/Timeseries/Team_project/VAE-LSTM-for-anomaly-detection/codes/utils.py:82: The name tf.trainable_variables is deprecated. Please use tf.compat.v1.trainable_variables instead.\n",
            "\n",
            "The total number of trainable parameters in the encoder model is: 315036\n",
            "The total number of trainable parameters in the decoder model is: 333169\n",
            "The total number of trainable parameters in the sigma2_dataset model is: 1\n",
            "Total number of trainable parameters in the VAE network is: 648206\n",
            "WARNING:tensorflow:From /content/drive/MyDrive/Colab Notebooks/Timeseries/Team_project/VAE-LSTM-for-anomaly-detection/codes/base.py:109: The name tf.train.AdamOptimizer is deprecated. Please use tf.compat.v1.train.AdamOptimizer instead.\n",
            "\n",
            "gvs for dataset: [(<tf.Tensor 'gradients/encoder/conv2d/Conv2D_grad/tuple/control_dependency_1:0' shape=(3, 1, 1, 32) dtype=float32>, <tf.Variable 'encoder/conv2d/kernel:0' shape=(3, 1, 1, 32) dtype=float32_ref>), (<tf.Tensor 'gradients/encoder/conv2d/BiasAdd_grad/tuple/control_dependency_1:0' shape=(32,) dtype=float32>, <tf.Variable 'encoder/conv2d/bias:0' shape=(32,) dtype=float32_ref>), (<tf.Tensor 'gradients/encoder/conv2d_1/Conv2D_grad/tuple/control_dependency_1:0' shape=(3, 1, 32, 64) dtype=float32>, <tf.Variable 'encoder/conv2d_1/kernel:0' shape=(3, 1, 32, 64) dtype=float32_ref>), (<tf.Tensor 'gradients/encoder/conv2d_1/BiasAdd_grad/tuple/control_dependency_1:0' shape=(64,) dtype=float32>, <tf.Variable 'encoder/conv2d_1/bias:0' shape=(64,) dtype=float32_ref>), (<tf.Tensor 'gradients/encoder/conv2d_2/Conv2D_grad/tuple/control_dependency_1:0' shape=(3, 1, 64, 128) dtype=float32>, <tf.Variable 'encoder/conv2d_2/kernel:0' shape=(3, 1, 64, 128) dtype=float32_ref>), (<tf.Tensor 'gradients/encoder/conv2d_2/BiasAdd_grad/tuple/control_dependency_1:0' shape=(128,) dtype=float32>, <tf.Variable 'encoder/conv2d_2/bias:0' shape=(128,) dtype=float32_ref>), (<tf.Tensor 'gradients/encoder/conv2d_3/Conv2D_grad/tuple/control_dependency_1:0' shape=(4, 1, 128, 512) dtype=float32>, <tf.Variable 'encoder/conv2d_3/kernel:0' shape=(4, 1, 128, 512) dtype=float32_ref>), (<tf.Tensor 'gradients/encoder/conv2d_3/BiasAdd_grad/tuple/control_dependency_1:0' shape=(512,) dtype=float32>, <tf.Variable 'encoder/conv2d_3/bias:0' shape=(512,) dtype=float32_ref>), (<tf.Tensor 'gradients/encoder/dense/MatMul_grad/tuple/control_dependency_1:0' shape=(512, 40) dtype=float32>, <tf.Variable 'encoder/dense/kernel:0' shape=(512, 40) dtype=float32_ref>), (<tf.Tensor 'gradients/encoder/dense/BiasAdd_grad/tuple/control_dependency_1:0' shape=(40,) dtype=float32>, <tf.Variable 'encoder/dense/bias:0' shape=(40,) dtype=float32_ref>), (<tf.Tensor 'gradients/encoder/code_mean/MatMul_grad/tuple/control_dependency_1:0' shape=(40, 10) dtype=float32>, <tf.Variable 'encoder/code_mean/kernel:0' shape=(40, 10) dtype=float32_ref>), (<tf.Tensor 'gradients/encoder/code_mean/BiasAdd_grad/tuple/control_dependency_1:0' shape=(10,) dtype=float32>, <tf.Variable 'encoder/code_mean/bias:0' shape=(10,) dtype=float32_ref>), (<tf.Tensor 'gradients/encoder/code_std_dev/MatMul_grad/tuple/control_dependency_1:0' shape=(40, 10) dtype=float32>, <tf.Variable 'encoder/code_std_dev/kernel:0' shape=(40, 10) dtype=float32_ref>), (<tf.Tensor 'gradients/encoder/code_std_dev/BiasAdd_grad/tuple/control_dependency_1:0' shape=(10,) dtype=float32>, <tf.Variable 'encoder/code_std_dev/bias:0' shape=(10,) dtype=float32_ref>), (<tf.Tensor 'gradients/decoder/dense/MatMul_grad/tuple/control_dependency_1:0' shape=(10, 512) dtype=float32>, <tf.Variable 'decoder/dense/kernel:0' shape=(10, 512) dtype=float32_ref>), (<tf.Tensor 'gradients/decoder/dense/BiasAdd_grad/tuple/control_dependency_1:0' shape=(512,) dtype=float32>, <tf.Variable 'decoder/dense/bias:0' shape=(512,) dtype=float32_ref>), (<tf.Tensor 'gradients/decoder/conv2d/Conv2D_grad/tuple/control_dependency_1:0' shape=(1, 1, 512, 512) dtype=float32>, <tf.Variable 'decoder/conv2d/kernel:0' shape=(1, 1, 512, 512) dtype=float32_ref>), (<tf.Tensor 'gradients/decoder/conv2d/BiasAdd_grad/tuple/control_dependency_1:0' shape=(512,) dtype=float32>, <tf.Variable 'decoder/conv2d/bias:0' shape=(512,) dtype=float32_ref>), (<tf.Tensor 'gradients/decoder/conv2d_1/Conv2D_grad/tuple/control_dependency_1:0' shape=(3, 1, 128, 128) dtype=float32>, <tf.Variable 'decoder/conv2d_1/kernel:0' shape=(3, 1, 128, 128) dtype=float32_ref>), (<tf.Tensor 'gradients/decoder/conv2d_1/BiasAdd_grad/tuple/control_dependency_1:0' shape=(128,) dtype=float32>, <tf.Variable 'decoder/conv2d_1/bias:0' shape=(128,) dtype=float32_ref>), (<tf.Tensor 'gradients/decoder/conv2d_2/Conv2D_grad/tuple/control_dependency_1:0' shape=(3, 1, 64, 64) dtype=float32>, <tf.Variable 'decoder/conv2d_2/kernel:0' shape=(3, 1, 64, 64) dtype=float32_ref>), (<tf.Tensor 'gradients/decoder/conv2d_2/BiasAdd_grad/tuple/control_dependency_1:0' shape=(64,) dtype=float32>, <tf.Variable 'decoder/conv2d_2/bias:0' shape=(64,) dtype=float32_ref>), (<tf.Tensor 'gradients/decoder/conv2d_3/Conv2D_grad/tuple/control_dependency_1:0' shape=(3, 1, 32, 32) dtype=float32>, <tf.Variable 'decoder/conv2d_3/kernel:0' shape=(3, 1, 32, 32) dtype=float32_ref>), (<tf.Tensor 'gradients/decoder/conv2d_3/BiasAdd_grad/tuple/control_dependency_1:0' shape=(32,) dtype=float32>, <tf.Variable 'decoder/conv2d_3/bias:0' shape=(32,) dtype=float32_ref>), (<tf.Tensor 'gradients/decoder/conv2d_4/Conv2D_grad/tuple/control_dependency_1:0' shape=(9, 1, 16, 1) dtype=float32>, <tf.Variable 'decoder/conv2d_4/kernel:0' shape=(9, 1, 16, 1) dtype=float32_ref>), (<tf.Tensor 'gradients/decoder/conv2d_4/BiasAdd_grad/tuple/control_dependency_1:0' shape=(1,) dtype=float32>, <tf.Variable 'decoder/conv2d_4/bias:0' shape=(1,) dtype=float32_ref>), (<tf.Tensor 'gradients/sigma2_dataset/Square_grad/Mul_1:0' shape=() dtype=float32>, <tf.Variable 'sigma2_dataset/Variable:0' shape=() dtype=float32_ref>)]\n",
            "Reach the definition of loss for VAE\n",
            "WARNING:tensorflow:From /content/drive/MyDrive/Colab Notebooks/Timeseries/Team_project/VAE-LSTM-for-anomaly-detection/codes/base.py:125: The name tf.train.Saver is deprecated. Please use tf.compat.v1.train.Saver instead.\n",
            "\n",
            "WARNING:tensorflow:From /content/drive/MyDrive/Colab Notebooks/Timeseries/Team_project/VAE-LSTM-for-anomaly-detection/codes/base.py:134: The name tf.global_variables_initializer is deprecated. Please use tf.compat.v1.global_variables_initializer instead.\n",
            "\n",
            "WARNING:tensorflow:From /content/drive/MyDrive/Colab Notebooks/Timeseries/Team_project/VAE-LSTM-for-anomaly-detection/codes/base.py:135: The name tf.local_variables_initializer is deprecated. Please use tf.compat.v1.local_variables_initializer instead.\n",
            "\n",
            "checkpoint_dir at loading: /content/drive/MyDrive/Colab Notebooks/Timeseries/Team_project/VAE-LSTM-for-anomaly-detection/experiments/local-results/NAB/fall_data/batch-64/NAB-fall_data-24-6-10-trainSigma/checkpoint/\n",
            "Loading model checkpoint /content/drive/MyDrive/Colab Notebooks/Timeseries/Team_project/VAE-LSTM-for-anomaly-detection/experiments/local-results/NAB/fall_data/batch-64/NAB-fall_data-24-6-10-trainSigma/checkpoint/-87520 ...\n",
            "\n",
            "INFO:tensorflow:Restoring parameters from /content/drive/MyDrive/Colab Notebooks/Timeseries/Team_project/VAE-LSTM-for-anomaly-detection/experiments/local-results/NAB/fall_data/batch-64/NAB-fall_data-24-6-10-trainSigma/checkpoint/-87520\n",
            "Model loaded.\n"
          ],
          "name": "stdout"
        },
        {
          "output_type": "display_data",
          "data": {
            "image/png": "[encoded data removed]",
            "text/plain": [
              "<Figure size 1296x288 with 1 Axes>"
            ]
          },
          "metadata": {
            "tags": [],
            "needs_background": "light"
          }
        }
      ]
    },
    {
      "cell_type": "code",
      "metadata": {
        "colab": {
          "base_uri": "https://localhost:8080/"
        },
        "id": "0t9onjy7XUxL",
        "outputId": "e6f0954c-522e-456a-e767-3ec4ddd9485c"
      },
      "source": [
        "config = process_config('/content/drive/MyDrive/Colab Notebooks/Timeseries/Team_project/VAE-LSTM-for-anomaly-detection/codes/NAB_config.json')\n",
        "config"
      ],
      "execution_count": null,
      "outputs": [
        {
          "output_type": "execute_result",
          "data": {
            "text/plain": [
              "{'TRAIN_LSTM': 1,\n",
              " 'TRAIN_VAE': 1,\n",
              " 'TRAIN_sigma': 1,\n",
              " 'batch_size': 64,\n",
              " 'batch_size_lstm': 64,\n",
              " 'checkpoint_dir': '/content/drive/MyDrive/Colab Notebooks/Timeseries/Team_project/VAE-LSTM-for-anomaly-detection/experiments/local-results/NAB/fall_data/batch-64/NAB-fall_data-24-6-10-trainSigma/checkpoint/',\n",
              " 'checkpoint_dir_lstm': '/content/drive/MyDrive/Colab Notebooks/Timeseries/Team_project/VAE-LSTM-for-anomaly-detection/experiments/local-results/NAB/fall_data/batch-64/NAB-fall_data-24-6-10-trainSigma/checkpoint/lstm/',\n",
              " 'code_size': 10,\n",
              " 'dataset': 'fall_data',\n",
              " 'exp_name': 'NAB',\n",
              " 'l_seq': 6,\n",
              " 'l_win': 24,\n",
              " 'learning_rate_lstm': 0.0002,\n",
              " 'learning_rate_vae': 0.0004,\n",
              " 'load_dir': '/content/drive/MyDrive/Colab Notebooks/Timeseries/Team_project/VAE-LSTM-for-anomaly-detection/experiments/local-results/NAB/fall_data/batch-64',\n",
              " 'load_model': 1,\n",
              " 'n_channel': 1,\n",
              " 'num_epochs_lstm': 20,\n",
              " 'num_epochs_vae': 20,\n",
              " 'num_hidden_units': 512,\n",
              " 'num_hidden_units_lstm': 64,\n",
              " 'one_image': 0,\n",
              " 'result_dir': '/content/drive/MyDrive/Colab Notebooks/Timeseries/Team_project/VAE-LSTM-for-anomaly-detection/experiments/local-results/NAB/fall_data/batch-64/NAB-fall_data-24-6-10-trainSigma/result/',\n",
              " 'sigma': 0.1,\n",
              " 'sigma2_offset': 0.01,\n",
              " 'summary_dir': '/content/drive/MyDrive/Colab Notebooks/Timeseries/Team_project/VAE-LSTM-for-anomaly-detection/experiments/local-results/NAB/fall_data/batch-64/NAB-fall_data-24-6-10-trainSigma/summary/',\n",
              " 'y_scale': 200}"
            ]
          },
          "metadata": {
            "tags": []
          },
          "execution_count": 6
        }
      ]
    },
    {
      "cell_type": "markdown",
      "metadata": {
        "id": "TN4pp8csn13-"
      },
      "source": [
        "## 2.2. LSTM 모델 불러오기"
      ]
    },
    {
      "cell_type": "code",
      "metadata": {
        "colab": {
          "base_uri": "https://localhost:8080/"
        },
        "id": "qJmVJ_5mGf1w",
        "outputId": "df87b9ad-2417-4161-8ce6-d1eb11864df1"
      },
      "source": [
        "# load LSTM model\n",
        "lstm_model = lstmKerasModel(data)\n",
        "lstm_nn_model = lstm_model.create_lstm_model(config)\n",
        "lstm_nn_model.summary()   # Display the model's architecture\n",
        "\n",
        "# checkpoint path\n",
        "checkpoint_path = config['checkpoint_dir_lstm'] + \"cp.ckpt\"\n",
        "checkpoint_dir = os.path.dirname(checkpoint_path)\n",
        "# Create a callback that saves the model's weights\n",
        "cp_callback = tf.keras.callbacks.ModelCheckpoint(filepath=checkpoint_path,\n",
        "                                                 save_weights_only=True,\n",
        "                                                 verbose=1)\n",
        "# load weights if possible\n",
        "lstm_model.load_model(lstm_nn_model, config, checkpoint_path)"
      ],
      "execution_count": null,
      "outputs": [
        {
          "output_type": "stream",
          "text": [
            "WARNING:tensorflow:From /usr/local/lib/python3.7/dist-packages/tensorflow_core/python/ops/resource_variable_ops.py:1630: calling BaseResourceVariable.__init__ (from tensorflow.python.ops.resource_variable_ops) with constraint is deprecated and will be removed in a future version.\n",
            "Instructions for updating:\n",
            "If using Keras pass *_constraint arguments to layers.\n",
            "Model: \"model\"\n",
            "_________________________________________________________________\n",
            "Layer (type)                 Output Shape              Param #   \n",
            "=================================================================\n",
            "input_1 (InputLayer)         [(None, 5, 10)]           0         \n",
            "_________________________________________________________________\n",
            "lstm (LSTM)                  (None, 5, 64)             19200     \n",
            "_________________________________________________________________\n",
            "lstm_1 (LSTM)                (None, 5, 64)             33024     \n",
            "_________________________________________________________________\n",
            "lstm_2 (LSTM)                (None, 5, 10)             3000      \n",
            "=================================================================\n",
            "Total params: 55,224\n",
            "Trainable params: 55,224\n",
            "Non-trainable params: 0\n",
            "_________________________________________________________________\n",
            "/content/drive/MyDrive/Colab Notebooks/Timeseries/Team_project/VAE-LSTM-for-anomaly-detection/experiments/local-results/NAB/fall_data/batch-64/NAB-fall_data-24-6-10-trainSigma/checkpoint/lstm/checkpoint\n",
            "LSTM model loaded.\n"
          ],
          "name": "stdout"
        }
      ]
    },
    {
      "cell_type": "markdown",
      "metadata": {
        "id": "raxaPLvuvUe_"
      },
      "source": [
        "# 3. 데이터 전처리"
      ]
    },
    {
      "cell_type": "markdown",
      "metadata": {
        "id": "oAWwjlC9oM1P"
      },
      "source": [
        "## 3.1. 검증 및 테스트 데이터 처리"
      ]
    },
    {
      "cell_type": "markdown",
      "metadata": {
        "id": "YJW4ECQFo6QN"
      },
      "source": [
        "### 3.1.1. 시계열 데이터를 Sequence size와 Window size로 잘라주는 함수"
      ]
    },
    {
      "cell_type": "code",
      "metadata": {
        "id": "bgADDDDTGf1x"
      },
      "source": [
        "# slice into rolling windows and rolling sequences\n",
        "def slice_rolling_windows_and_sequences(config, time_seq):\n",
        "    n_sample = len(time_seq)\n",
        "    print(\"The given sequence has {} samples\".format(n_sample))\n",
        "    n_vae_win = n_sample - config['l_win'] + 1\n",
        "    rolling_windows = np.zeros((n_vae_win, config['l_win']))\n",
        "    for i in range(n_vae_win):\n",
        "        print(i,'/',n_vae_win)\n",
        "        rolling_windows[i] = time_seq[i:i + config['l_win']]\n",
        "        sample_m = np.mean(rolling_windows, axis=1)\n",
        "        sample_std = np.std(rolling_windows, axis=1)\n",
        "\n",
        "        n_lstm_seq = n_sample - config['l_seq']*config['l_win']+1\n",
        "        lstm_seq = np.zeros((n_lstm_seq, config['l_seq'], config['l_win']))\n",
        "    for i in range(n_lstm_seq):\n",
        "        print(i,'/',n_lstm_seq)\n",
        "        cur_seq = time_seq[i:i+config['l_seq']*config['l_win']]\n",
        "        for j in range(config['l_seq']):\n",
        "            lstm_seq[i,j] = cur_seq[config['l_win']*j:config['l_win']*(j+1)]\n",
        "    \n",
        "    return rolling_windows, lstm_seq, sample_m, sample_std"
      ],
      "execution_count": null,
      "outputs": []
    },
    {
      "cell_type": "markdown",
      "metadata": {
        "id": "AnauQgKQoli_"
      },
      "source": [
        "### 3.1.2. 검증 데이터 Sequence로 변경 (N, l_seq, l_win)\n",
        "\n"
      ]
    },
    {
      "cell_type": "code",
      "metadata": {
        "id": "vfW5qNjZDE2x"
      },
      "source": [
        "# 검증 데이터 sequence로 변경\n",
        "\n",
        "# load normalised time series\n",
        "save_dir = '/content/drive/MyDrive/Colab Notebooks/Timeseries/Team_project/VAE-LSTM-for-anomaly-detection/datasets/NAB-known-anomaly/'\n",
        "dataset = config['dataset']\n",
        "filename = '{}.npz'.format(dataset)\n",
        "result = dict(np.load(save_dir+filename, allow_pickle=True))\n",
        "\n",
        "'''\n",
        "val_windows, val_seq, val_sample_m, val_sample_std = slice_rolling_windows_and_sequences(config, result['test'])\n",
        "val_windows = np.expand_dims(val_windows, -1)\n",
        "val_seq = np.expand_dims(val_seq, -1)\n",
        "print(val_windows.shape)\n",
        "print(val_seq.shape)\n",
        "\n",
        "np.save('/content/drive/MyDrive/Colab Notebooks/Timeseries/Team_project/VAE-LSTM-for-anomaly-detection/datasets/data_numpy/val_seq.npy', val_seq)\n",
        "'''\n",
        "\n",
        "val_seq = np.load('/content/drive/MyDrive/Colab Notebooks/Timeseries/Team_project/VAE-LSTM-for-anomaly-detection/datasets/data_numpy/val_seq.npy')"
      ],
      "execution_count": null,
      "outputs": []
    },
    {
      "cell_type": "code",
      "metadata": {
        "colab": {
          "base_uri": "https://localhost:8080/"
        },
        "id": "jke1Cse1sA-2",
        "outputId": "ab7392c7-be73-4b45-f47f-801c0847110e"
      },
      "source": [
        "test_seq.shape"
      ],
      "execution_count": null,
      "outputs": [
        {
          "output_type": "execute_result",
          "data": {
            "text/plain": [
              "(12022, 6, 24, 1)"
            ]
          },
          "metadata": {
            "tags": []
          },
          "execution_count": 20
        }
      ]
    },
    {
      "cell_type": "markdown",
      "metadata": {
        "id": "jMcLLL44YAOI"
      },
      "source": [
        "### 3.1.3. 테스트 데이터 Sequence로 변경 (N, l_seq, l_win)"
      ]
    },
    {
      "cell_type": "code",
      "metadata": {
        "id": "NMNTeThHYEjM"
      },
      "source": [
        "# 테스트 데이터 sequence로 변경\n",
        "\n",
        "# load normalised time series\n",
        "save_dir = '/content/drive/MyDrive/Colab Notebooks/Timeseries/Team_project/VAE-LSTM-for-anomaly-detection/datasets/NAB-known-anomaly/'\n",
        "test_dataset = 'test_fall_data'\n",
        "test_filename = '{}.npz'.format(test_dataset)\n",
        "test_result = dict(np.load(save_dir+test_filename, allow_pickle=True))\n",
        "\n",
        "'''\n",
        "test_windows, test_seq, test_sample_m, test_sample_std = slice_rolling_windows_and_sequences(config, test_result['test'])\n",
        "test_windows = np.expand_dims(test_windows, -1)\n",
        "test_seq = np.expand_dims(test_seq, -1)\n",
        "print(test_windows.shape)\n",
        "print(test_seq.shape)\n",
        "\n",
        "np.save('/content/drive/MyDrive/Colab Notebooks/Timeseries/Team_project/VAE-LSTM-for-anomaly-detection/datasets/data_numpy/test_seq.npy', test_seq)\n",
        "'''\n",
        "\n",
        "test_seq = np.load('/content/drive/MyDrive/Colab Notebooks/Timeseries/Team_project/VAE-LSTM-for-anomaly-detection/datasets/data_numpy/test_seq.npy')"
      ],
      "execution_count": null,
      "outputs": []
    },
    {
      "cell_type": "markdown",
      "metadata": {
        "id": "AwDxPDWpvijy"
      },
      "source": [
        "# 4. Reconstruction error 계산  \n",
        "- VAE로 Embedding 된 값(vae_embedding)을 LSTM의 input(idx: 0 ~ 4)으로 받아서 다음 seq(idx: 1 ~ 5)를 예측(lstm_embedding)\n",
        "- lstm_embedding를 VAE decoder로 recons_win_lstm 생성  \n",
        "- 실제 데이터(val_seq)와 recons_win_lstm의 차이(lstm_recons_error)가 threshold보다 클 경우 비정상 데이터라고 판단\n",
        "\n",
        "\n"
      ]
    },
    {
      "cell_type": "markdown",
      "metadata": {
        "id": "dEoIcSF8sXAG"
      },
      "source": [
        "## 4.1. Reconstruction error 계산 함수"
      ]
    },
    {
      "cell_type": "code",
      "metadata": {
        "id": "UEVqGf3LRXsU"
      },
      "source": [
        "def evaluate_lstm_anomaly_metric_for_a_seq(val_seq):\n",
        "    feed_dict = {model_vae.original_signal: val_seq,\n",
        "                 model_vae.is_code_input: False,\n",
        "                 model_vae.code_input: np.zeros((1, config['code_size']))}\n",
        "    vae_embedding = np.squeeze(sess.run(model_vae.code_mean, feed_dict=feed_dict))\n",
        "    #print(vae_embedding.shape)\n",
        "    lstm_embedding = np.squeeze(lstm_nn_model.predict(np.expand_dims(vae_embedding[:config['l_seq']-1], 0), batch_size=1))\n",
        "    lstm_embedding_error = np.sum(np.square(vae_embedding[1:] - lstm_embedding))\n",
        "    \n",
        "    # LSTM prediction error\n",
        "    feed_dict_lstm = {model_vae.original_signal: np.zeros((config['l_seq'] - 1, config['l_win'], 1)),\n",
        "                      model_vae.is_code_input: True,\n",
        "                      model_vae.code_input: lstm_embedding}\n",
        "    recons_win_lstm = np.squeeze(sess.run(model_vae.decoded, feed_dict=feed_dict_lstm))\n",
        "    lstm_recons_error = np.sum(np.square(recons_win_lstm - np.squeeze(val_seq[1:])))\n",
        "    return lstm_recons_error, lstm_embedding_error"
      ],
      "execution_count": null,
      "outputs": []
    },
    {
      "cell_type": "markdown",
      "metadata": {
        "id": "eCfrV8VIsMeV"
      },
      "source": [
        "## 4.2. 검증 및 테스트 데이터 Reconstruction error 구함"
      ]
    },
    {
      "cell_type": "markdown",
      "metadata": {
        "id": "uJvxYJB0ck1Q"
      },
      "source": [
        "### 4.2.1. 검증 데이터 Reconstruction error 구함"
      ]
    },
    {
      "cell_type": "code",
      "metadata": {
        "id": "MNZzPhwlGf11"
      },
      "source": [
        "# Evaluate the anomaly metrics on the val windows and sequences\n",
        "n_val_lstm = val_seq.shape[0]\n",
        "'''\n",
        "val_lstm_recons_error, val_lstm_embedding_error = np.zeros(n_val_lstm), np.zeros(n_val_lstm)\n",
        "for i in range(n_val_lstm):\n",
        "    print(f'i={i}')\n",
        "    val_lstm_recons_error[i], val_lstm_embedding_error[i] = evaluate_lstm_anomaly_metric_for_a_seq(val_seq[i])\n",
        "print(\"All windows' reconstruction error is computed.\")\n",
        "print(\"The total number of windows is {}\".format(len(val_lstm_recons_error)))\n",
        "\n",
        "np.save('/content/drive/MyDrive/Colab Notebooks/Timeseries/Team_project/VAE-LSTM-for-anomaly-detection/experiments/val_lstm_recons_error', val_lstm_recons_error)\n",
        "'''\n",
        "val_lstm_recons_error = np.load('/content/drive/MyDrive/Colab Notebooks/Timeseries/Team_project/VAE-LSTM-for-anomaly-detection/experiments/val_lstm_recons_error.npy')"
      ],
      "execution_count": null,
      "outputs": []
    },
    {
      "cell_type": "markdown",
      "metadata": {
        "id": "oQzKb_caciIf"
      },
      "source": [
        "### 4.2.2. 테스트 데이터 Reconstruction error 구함"
      ]
    },
    {
      "cell_type": "code",
      "metadata": {
        "id": "qR2ZnRcschyL"
      },
      "source": [
        "# Evaluate the anomaly metrics on the test windows and sequences\n",
        "n_test_lstm = test_seq.shape[0]\n",
        "'''\n",
        "test_lstm_recons_error, test_lstm_embedding_error = np.zeros(n_test_lstm), np.zeros(n_test_lstm)\n",
        "for i in range(n_test_lstm):\n",
        "    print(f'i={i}')\n",
        "    test_lstm_recons_error[i], test_lstm_embedding_error[i] = evaluate_lstm_anomaly_metric_for_a_seq(test_seq[i])\n",
        "print(\"All windows' reconstruction error is computed.\")\n",
        "print(\"The total number of windows is {}\".format(len(test_lstm_recons_error)))\n",
        "\n",
        "np.save('/content/drive/MyDrive/Colab Notebooks/Timeseries/Team_project/VAE-LSTM-for-anomaly-detection/experiments/test_lstm_recons_error', test_lstm_recons_error)\n",
        "'''\n",
        "test_lstm_recons_error = np.load('/content/drive/MyDrive/Colab Notebooks/Timeseries/Team_project/VAE-LSTM-for-anomaly-detection/experiments/test_lstm_recons_error.npy')"
      ],
      "execution_count": null,
      "outputs": []
    },
    {
      "cell_type": "markdown",
      "metadata": {
        "id": "eQ2b2IiEvyXc"
      },
      "source": [
        "# 5. Sequence 데이터에 대한 anomaly labeling"
      ]
    },
    {
      "cell_type": "code",
      "metadata": {
        "id": "CByAOst7Fpm-"
      },
      "source": [
        "idx_anomaly_val = result['idx_anomaly_test']\n",
        "anomaly_index_lstm = [] \n",
        "cnt = 0\n",
        "anomaly_range = []\n",
        "val_labels_lstm = np.zeros(n_val_lstm)\n",
        "\n",
        "for i, idx_anomaly in enumerate(idx_anomaly_val[:len(idx_anomaly_val)-1]):\n",
        "    target = idx_anomaly+1\n",
        "    if target != idx_anomaly_val[i+1]:\n",
        "        anomaly_range.append(idx_anomaly_val[cnt:i+1])\n",
        "        cnt = i\n",
        "    if i==len(idx_anomaly_val)-2:\n",
        "        anomaly_range.append(idx_anomaly_val[cnt+1:])\n",
        "\n",
        "for anomaly in anomaly_range:\n",
        "    left = anomaly[-1]-(config['l_win']*config['l_seq'])\n",
        "    right = anomaly[0]\n",
        "    val_labels_lstm[left:right] = 1\n",
        "\n",
        "for j, val_label in enumerate(val_labels_lstm):\n",
        "    if val_label == 1:\n",
        "        anomaly_index_lstm.append(np.arange(j,j+config['l_win']*config['l_seq']+1))\n",
        "\n",
        "np.save('/content/drive/MyDrive/Colab Notebooks/Timeseries/Team_project/VAE-LSTM-for-anomaly-detection/datasets/data_numpy/val_labels', val_labels_lstm)\n",
        "val_labels_lstm = np.load('/content/drive/MyDrive/Colab Notebooks/Timeseries/Team_project/VAE-LSTM-for-anomaly-detection/datasets/data_numpy/val_labels.npy')"
      ],
      "execution_count": null,
      "outputs": []
    },
    {
      "cell_type": "code",
      "metadata": {
        "id": "72VuFvGXk_G5"
      },
      "source": [
        "idx_anomaly_test = test_result['idx_anomaly_test']\n",
        "test_anomaly_index_lstm = [] \n",
        "cnt = 0\n",
        "test_anomaly_range = []\n",
        "test_labels_lstm = np.zeros(n_test_lstm)\n",
        "\n",
        "for i, idx_anomaly in enumerate(idx_anomaly_test[:len(idx_anomaly_test)-1]):\n",
        "    target = idx_anomaly+1\n",
        "    if target != idx_anomaly_test[i+1]:\n",
        "        test_anomaly_range.append(idx_anomaly_test[cnt:i+1])\n",
        "        cnt = i\n",
        "    if i==len(idx_anomaly_test)-2:\n",
        "        test_anomaly_range.append(idx_anomaly_test[cnt+1:])\n",
        "\n",
        "for anomaly in test_anomaly_range:\n",
        "    left = anomaly[-1]-(config['l_win']*config['l_seq'])\n",
        "    right = anomaly[0]\n",
        "    test_labels_lstm[left:right] = 1\n",
        "\n",
        "for j, test_label in enumerate(test_labels_lstm):\n",
        "    if test_label == 1:\n",
        "        test_anomaly_index_lstm.append(np.arange(j,j+config['l_win']*config['l_seq']+1))\n",
        "\n",
        "np.save('/content/drive/MyDrive/Colab Notebooks/Timeseries/Team_project/VAE-LSTM-for-anomaly-detection/datasets/data_numpy/test_labels', test_labels_lstm)\n",
        "test_labels_lstm = np.load('/content/drive/MyDrive/Colab Notebooks/Timeseries/Team_project/VAE-LSTM-for-anomaly-detection/datasets/data_numpy/test_labels.npy')"
      ],
      "execution_count": null,
      "outputs": []
    },
    {
      "cell_type": "markdown",
      "metadata": {
        "id": "QOvg3Q6pv7wS"
      },
      "source": [
        "# 6. 최적 Threshold 찾기"
      ]
    },
    {
      "cell_type": "code",
      "metadata": {
        "id": "CZzhoBepGf13"
      },
      "source": [
        "def return_anomaly_idx_by_threshold(val_anomaly_metric, threshold):\n",
        "    val_list = np.squeeze(np.ndarray.flatten(val_anomaly_metric))\n",
        "    idx_error = np.squeeze(np.argwhere(val_anomaly_metric > threshold))\n",
        "    \n",
        "    if len(idx_error.shape) == 0:\n",
        "        idx_error = np.expand_dims(idx_error, 0)\n",
        "    \n",
        "    return list(idx_error)"
      ],
      "execution_count": null,
      "outputs": []
    },
    {
      "cell_type": "code",
      "metadata": {
        "id": "aOnaxfAuGf13"
      },
      "source": [
        "def count_TP_FP_FN(idx_detected_anomaly, anomaly_index, val_labels):\n",
        "    n_TP = 0\n",
        "    n_FP = 0\n",
        "    n_detection = len(idx_detected_anomaly)\n",
        "    for i in range(n_detection):\n",
        "        if val_labels[idx_detected_anomaly[i]] == 1:\n",
        "            n_TP = n_TP + 1\n",
        "        else:\n",
        "            n_FP = n_FP + 1\n",
        "    \n",
        "    idx_undetected = list(set(np.arange(len(val_labels)))- set(idx_detected_anomaly))\n",
        "    n_FN = 0\n",
        "    for i in idx_undetected:\n",
        "        if val_labels[i] == 1:\n",
        "            n_FN = n_FN + 1\n",
        "    # print('TN: ', len(val_labels) - n_TP - n_FP- n_FN)\n",
        "    return n_TP, n_FP, n_FN"
      ],
      "execution_count": null,
      "outputs": []
    },
    {
      "cell_type": "code",
      "metadata": {
        "id": "D7gQZm70Gf13"
      },
      "source": [
        "def compute_precision_and_recall(idx_detected_anomaly, anomaly_index, val_labels):\n",
        "    # compute true positive\n",
        "    n_TP, n_FP, n_FN = count_TP_FP_FN(idx_detected_anomaly, anomaly_index, val_labels)\n",
        "    \n",
        "    if n_TP + n_FP == 0:\n",
        "        precision = 1\n",
        "    else:\n",
        "        precision = n_TP / (n_TP + n_FP)\n",
        "    \n",
        "    if n_TP + n_FN == 0:\n",
        "        recall = 1\n",
        "    else:\n",
        "        recall = n_TP / (n_TP + n_FN)\n",
        "    \n",
        "    #recall = n_TP / (n_TP + n_FN)\n",
        "    if precision + recall == 0:\n",
        "        F1 = 0\n",
        "    else:\n",
        "        F1 = 2* (precision * recall)/(precision + recall)\n",
        "    \n",
        "    return precision, recall, F1, n_TP, n_FP, n_FN"
      ],
      "execution_count": null,
      "outputs": []
    },
    {
      "cell_type": "markdown",
      "metadata": {
        "id": "vhdHicAgt3h0"
      },
      "source": [
        "## 6.1. Best Threshold 찾는 과정\n",
        "- 구한 Reconstruction error(val_lstm_recons_error)에 대해 최소, 최대 값을 n_threshold개로 잘라서 threshold_list 만듦\n",
        "- threshold_list 안의 각 threshold에 대해 비정상 여부 판단하여 Precision, Recall, F1 score 구함\n",
        "- Best F1 score에 해당하는 threshold를 사용"
      ]
    },
    {
      "cell_type": "code",
      "metadata": {
        "id": "o1x4HN_6Gf14",
        "colab": {
          "base_uri": "https://localhost:8080/"
        },
        "outputId": "ee242716-cfb1-4b2f-afba-8e24cfcd4929"
      },
      "source": [
        "n_threshold = 100\n",
        "precision = np.zeros(n_threshold)\n",
        "recall = np.zeros(n_threshold)\n",
        "F1 = np.zeros(n_threshold)\n",
        "\n",
        "i = 0\n",
        "threshold_list = np.linspace(np.amin(val_lstm_recons_error), np.amax(val_lstm_recons_error), n_threshold, endpoint=True)\n",
        "threshold_list = np.flip(threshold_list)\n",
        "for threshold in threshold_list:\n",
        "    #print(threshold_list[i])\n",
        "    idx_detection_lstm = return_anomaly_idx_by_threshold(val_lstm_recons_error, threshold)\n",
        "    precision[i], recall[i], F1[i], _, _, _ = compute_precision_and_recall(idx_detection_lstm, \n",
        "                                                                           anomaly_index_lstm, \n",
        "                                                                           val_labels_lstm)\n",
        "\n",
        "    i = i + 1\n",
        "    #print(f'i={i}')\n",
        "print(f'precision={precision},\\n\\nrecall={recall},\\n\\nF1={F1}')"
      ],
      "execution_count": null,
      "outputs": [
        {
          "output_type": "stream",
          "text": [
            "precision=[1.         1.         0.96296296 0.91111111 0.91176471 0.90588235\n",
            " 0.91304348 0.91666667 0.91919192 0.91176471 0.89423077 0.89423077\n",
            " 0.89423077 0.8952381  0.88679245 0.88679245 0.88785047 0.88888889\n",
            " 0.88888889 0.88888889 0.88990826 0.88990826 0.88990826 0.87387387\n",
            " 0.87387387 0.87387387 0.87387387 0.87387387 0.86607143 0.85840708\n",
            " 0.85840708 0.85840708 0.85087719 0.84347826 0.82905983 0.82905983\n",
            " 0.8220339  0.81512605 0.81512605 0.81512605 0.80833333 0.80833333\n",
            " 0.80833333 0.80833333 0.80833333 0.80833333 0.80833333 0.80833333\n",
            " 0.80833333 0.80833333 0.80833333 0.80833333 0.80833333 0.80833333\n",
            " 0.80833333 0.80833333 0.80833333 0.80833333 0.80833333 0.80833333\n",
            " 0.80833333 0.80833333 0.80833333 0.80165289 0.80165289 0.79508197\n",
            " 0.79508197 0.79508197 0.78225806 0.776      0.76377953 0.76377953\n",
            " 0.76377953 0.7578125  0.75193798 0.75193798 0.75193798 0.74615385\n",
            " 0.74615385 0.74615385 0.74045802 0.74045802 0.74045802 0.73484848\n",
            " 0.73484848 0.73484848 0.72932331 0.72932331 0.7238806  0.71851852\n",
            " 0.71323529 0.71323529 0.7080292  0.69784173 0.68309859 0.67361111\n",
            " 0.63815789 0.44090909 0.13585434 0.00806787],\n",
            "\n",
            "recall=[0.         0.15463918 0.26804124 0.42268041 0.63917526 0.79381443\n",
            " 0.86597938 0.90721649 0.93814433 0.95876289 0.95876289 0.95876289\n",
            " 0.95876289 0.96907216 0.96907216 0.96907216 0.97938144 0.98969072\n",
            " 0.98969072 0.98969072 1.         1.         1.         1.\n",
            " 1.         1.         1.         1.         1.         1.\n",
            " 1.         1.         1.         1.         1.         1.\n",
            " 1.         1.         1.         1.         1.         1.\n",
            " 1.         1.         1.         1.         1.         1.\n",
            " 1.         1.         1.         1.         1.         1.\n",
            " 1.         1.         1.         1.         1.         1.\n",
            " 1.         1.         1.         1.         1.         1.\n",
            " 1.         1.         1.         1.         1.         1.\n",
            " 1.         1.         1.         1.         1.         1.\n",
            " 1.         1.         1.         1.         1.         1.\n",
            " 1.         1.         1.         1.         1.         1.\n",
            " 1.         1.         1.         1.         1.         1.\n",
            " 1.         1.         1.         1.        ],\n",
            "\n",
            "F1=[0.         0.26785714 0.41935484 0.57746479 0.75151515 0.84615385\n",
            " 0.88888889 0.9119171  0.92857143 0.93467337 0.92537313 0.92537313\n",
            " 0.92537313 0.93069307 0.92610837 0.92610837 0.93137255 0.93658537\n",
            " 0.93658537 0.93658537 0.94174757 0.94174757 0.94174757 0.93269231\n",
            " 0.93269231 0.93269231 0.93269231 0.93269231 0.92822967 0.92380952\n",
            " 0.92380952 0.92380952 0.91943128 0.91509434 0.90654206 0.90654206\n",
            " 0.90232558 0.89814815 0.89814815 0.89814815 0.89400922 0.89400922\n",
            " 0.89400922 0.89400922 0.89400922 0.89400922 0.89400922 0.89400922\n",
            " 0.89400922 0.89400922 0.89400922 0.89400922 0.89400922 0.89400922\n",
            " 0.89400922 0.89400922 0.89400922 0.89400922 0.89400922 0.89400922\n",
            " 0.89400922 0.89400922 0.89400922 0.88990826 0.88990826 0.88584475\n",
            " 0.88584475 0.88584475 0.87782805 0.87387387 0.86607143 0.86607143\n",
            " 0.86607143 0.86222222 0.85840708 0.85840708 0.85840708 0.85462555\n",
            " 0.85462555 0.85462555 0.85087719 0.85087719 0.85087719 0.84716157\n",
            " 0.84716157 0.84716157 0.84347826 0.84347826 0.83982684 0.8362069\n",
            " 0.83261803 0.83261803 0.82905983 0.8220339  0.81171548 0.80497925\n",
            " 0.77911647 0.61198738 0.23921085 0.0160066 ]\n"
          ],
          "name": "stdout"
        }
      ]
    },
    {
      "cell_type": "code",
      "metadata": {
        "colab": {
          "base_uri": "https://localhost:8080/"
        },
        "id": "WUud84JWqY2D",
        "outputId": "bb6a4a25-6626-47a9-a37b-856d23d5c24f"
      },
      "source": [
        "threshold_list"
      ],
      "execution_count": null,
      "outputs": [
        {
          "output_type": "execute_result",
          "data": {
            "text/plain": [
              "array([7.15390765e+04, 7.08164686e+04, 7.00938608e+04, 6.93712529e+04,\n",
              "       6.86486451e+04, 6.79260373e+04, 6.72034294e+04, 6.64808216e+04,\n",
              "       6.57582137e+04, 6.50356059e+04, 6.43129980e+04, 6.35903902e+04,\n",
              "       6.28677824e+04, 6.21451745e+04, 6.14225667e+04, 6.06999588e+04,\n",
              "       5.99773510e+04, 5.92547432e+04, 5.85321353e+04, 5.78095275e+04,\n",
              "       5.70869196e+04, 5.63643118e+04, 5.56417040e+04, 5.49190961e+04,\n",
              "       5.41964883e+04, 5.34738804e+04, 5.27512726e+04, 5.20286648e+04,\n",
              "       5.13060569e+04, 5.05834491e+04, 4.98608412e+04, 4.91382334e+04,\n",
              "       4.84156256e+04, 4.76930177e+04, 4.69704099e+04, 4.62478020e+04,\n",
              "       4.55251942e+04, 4.48025864e+04, 4.40799785e+04, 4.33573707e+04,\n",
              "       4.26347628e+04, 4.19121550e+04, 4.11895472e+04, 4.04669393e+04,\n",
              "       3.97443315e+04, 3.90217236e+04, 3.82991158e+04, 3.75765079e+04,\n",
              "       3.68539001e+04, 3.61312923e+04, 3.54086844e+04, 3.46860766e+04,\n",
              "       3.39634687e+04, 3.32408609e+04, 3.25182531e+04, 3.17956452e+04,\n",
              "       3.10730374e+04, 3.03504295e+04, 2.96278217e+04, 2.89052139e+04,\n",
              "       2.81826060e+04, 2.74599982e+04, 2.67373903e+04, 2.60147825e+04,\n",
              "       2.52921747e+04, 2.45695668e+04, 2.38469590e+04, 2.31243511e+04,\n",
              "       2.24017433e+04, 2.16791355e+04, 2.09565276e+04, 2.02339198e+04,\n",
              "       1.95113119e+04, 1.87887041e+04, 1.80660963e+04, 1.73434884e+04,\n",
              "       1.66208806e+04, 1.58982727e+04, 1.51756649e+04, 1.44530571e+04,\n",
              "       1.37304492e+04, 1.30078414e+04, 1.22852335e+04, 1.15626257e+04,\n",
              "       1.08400178e+04, 1.01174100e+04, 9.39480217e+03, 8.67219433e+03,\n",
              "       7.94958649e+03, 7.22697865e+03, 6.50437080e+03, 5.78176296e+03,\n",
              "       5.05915512e+03, 4.33654728e+03, 3.61393944e+03, 2.89133160e+03,\n",
              "       2.16872376e+03, 1.44611592e+03, 7.23508080e+02, 9.00239765e-01])"
            ]
          },
          "metadata": {
            "tags": []
          },
          "execution_count": 20
        }
      ]
    },
    {
      "cell_type": "markdown",
      "metadata": {
        "id": "3RpXgWorwpBj"
      },
      "source": [
        "## 6.2. Best Threshold 확인"
      ]
    },
    {
      "cell_type": "code",
      "metadata": {
        "colab": {
          "base_uri": "https://localhost:8080/"
        },
        "id": "SLBFgMNrGf14",
        "outputId": "99c7669f-8693-405e-b418-015efb13abaf"
      },
      "source": [
        "print(\"Best F1 score is {}\".format(np.amax(F1)))\n",
        "idx_best_threshold = np.squeeze(np.argwhere(F1 == np.amax(F1)))\n",
        "print(\"Best threshold is {}\".format(threshold_list[idx_best_threshold]))\n",
        "print(\"At this threshold, precision is {}, recall is {}\".format(precision[idx_best_threshold], recall[idx_best_threshold]))\n",
        "average_precision = np.sum(precision[1:] * (recall[1:] - recall[:-1]))\n",
        "print(\"Average precision is {}\".format(average_precision))"
      ],
      "execution_count": null,
      "outputs": [
        {
          "output_type": "stream",
          "text": [
            "Best F1 score is 0.941747572815534\n",
            "Best threshold is [57086.919644   56364.31180344 55641.70396288]\n",
            "At this threshold, precision is [0.88990826 0.88990826 0.88990826], recall is [1. 1. 1.]\n",
            "Average precision is 0.9298506728766698\n"
          ],
          "name": "stdout"
        }
      ]
    },
    {
      "cell_type": "code",
      "metadata": {
        "colab": {
          "base_uri": "https://localhost:8080/"
        },
        "id": "i46nIwqBGV1r",
        "outputId": "03c699a5-0917-48f9-a9a5-c6ecf74564e0"
      },
      "source": [
        "len(val_labels_lstm), len(test_labels_lstm)"
      ],
      "execution_count": null,
      "outputs": [
        {
          "output_type": "execute_result",
          "data": {
            "text/plain": [
              "(12024, 12022)"
            ]
          },
          "metadata": {
            "tags": []
          },
          "execution_count": 26
        }
      ]
    },
    {
      "cell_type": "markdown",
      "metadata": {
        "id": "DhMCiUgEu2u8"
      },
      "source": [
        "## 6.3. Best Threshold 적용\n",
        "- *위에서 구한 Best threshold를 2번 line에 기입해야 함*"
      ]
    },
    {
      "cell_type": "code",
      "metadata": {
        "colab": {
          "base_uri": "https://localhost:8080/"
        },
        "id": "qQMzEs9ipfxv",
        "outputId": "9404ea62-7021-47dc-ea81-3a7463e4a031"
      },
      "source": [
        "# Now select a threshold\n",
        "threshold = 57086 # 위에서 구한 Best threshold 적용\n",
        "\n",
        "print(\"Threshold is {}\".format(threshold))\n",
        "idx_detection = return_anomaly_idx_by_threshold(val_lstm_recons_error, threshold)\n",
        "\n",
        "precision, recall, F1, n_TP, n_FP, n_FN = compute_precision_and_recall(idx_detection, \n",
        "                                                                       anomaly_index_lstm, \n",
        "                                                                       val_labels_lstm)\n",
        "n_TN = len(test_labels_lstm) - n_TP - n_FP - n_FN\n",
        "accuracy = (n_TP + n_TN)/len(test_labels_lstm)\n",
        "print(\"Accuracy: {}\".format(accuracy))\n",
        "print(\"Precision: {}\".format(precision))\n",
        "print(\"Recall: {}\".format(recall))\n",
        "print(\"F1: {}\".format(F1))\n",
        "print(\"TP: {}\".format(n_TP))\n",
        "print(\"TN: {}\".format(n_TN))\n",
        "print(\"FP: {}\".format(n_FP))\n",
        "print(\"FN: {}\".format(n_FN))"
      ],
      "execution_count": null,
      "outputs": [
        {
          "output_type": "stream",
          "text": [
            "Threshold is 57086\n",
            "Accuracy: 0.999001829978373\n",
            "Precision: 0.8899082568807339\n",
            "Recall: 1.0\n",
            "F1: 0.941747572815534\n",
            "TP: 97\n",
            "TN: 11913\n",
            "FP: 12\n",
            "FN: 0\n"
          ],
          "name": "stdout"
        }
      ]
    },
    {
      "cell_type": "code",
      "metadata": {
        "colab": {
          "base_uri": "https://localhost:8080/"
        },
        "id": "uqzgESX1Gf14",
        "outputId": "a2a125b1-e959-4f8c-83ae-432386d1f088"
      },
      "source": [
        "# Now select a threshold\n",
        "threshold = 57086 # 위에서 구한 Best threshold 적용\n",
        "\n",
        "print(\"Threshold is {}\".format(threshold))\n",
        "idx_detection = return_anomaly_idx_by_threshold(test_lstm_recons_error, threshold)\n",
        "\n",
        "precision, recall, F1, n_TP, n_FP, n_FN = compute_precision_and_recall(idx_detection, \n",
        "                                                                       test_anomaly_index_lstm, \n",
        "                                                                       test_labels_lstm)\n",
        "n_TN = len(test_labels_lstm) - n_TP - n_FP - n_FN\n",
        "accuracy = (n_TP + n_TN)/len(test_labels_lstm)\n",
        "print(\"Accuracy: {}\".format(accuracy))\n",
        "print(\"Precision: {}\".format(precision))\n",
        "print(\"Recall: {}\".format(recall))\n",
        "print(\"F1: {}\".format(F1))\n",
        "print(\"TP: {}\".format(n_TP))\n",
        "print(\"TN: {}\".format(n_TN))\n",
        "print(\"FP: {}\".format(n_FP))\n",
        "print(\"FN: {}\".format(n_FN))"
      ],
      "execution_count": null,
      "outputs": [
        {
          "output_type": "stream",
          "text": [
            "Threshold is 57086\n",
            "Accuracy: 0.9981700216270172\n",
            "Precision: 0.8035714285714286\n",
            "Recall: 1.0\n",
            "F1: 0.8910891089108911\n",
            "TP: 90\n",
            "TN: 11910\n",
            "FP: 22\n",
            "FN: 0\n"
          ],
          "name": "stdout"
        }
      ]
    },
    {
      "cell_type": "markdown",
      "metadata": {
        "id": "qrjoD1FoxPja"
      },
      "source": [
        "# 7. 결과 Plotting"
      ]
    },
    {
      "cell_type": "code",
      "metadata": {
        "id": "9hVBybVbGf15"
      },
      "source": [
        "def slice_detected_indices_into_seq(idx_detection, interval):\n",
        "    detected_seq = []\n",
        "    i = 0\n",
        "    while i < len(idx_detection):\n",
        "        if i == 0:\n",
        "            cur_seq = [idx_detection[i]]\n",
        "            i = i + 1\n",
        "        else:\n",
        "            if idx_detection[i] - idx_detection[i-1] > interval:\n",
        "                detected_seq.append(cur_seq)\n",
        "                cur_seq = [idx_detection[i]]\n",
        "            else:\n",
        "                cur_seq.append(idx_detection[i])\n",
        "                if i == len(idx_detection) - 1:\n",
        "                    detected_seq.append(cur_seq)\n",
        "            i = i + 1\n",
        "    \n",
        "    print(\"Detected {} sequences\".format(len(detected_seq)))\n",
        "    return detected_seq"
      ],
      "execution_count": null,
      "outputs": []
    },
    {
      "cell_type": "code",
      "metadata": {
        "id": "RKJ6t0xfGf15"
      },
      "source": [
        "def plot_detected_anomalies(idx_detection, interval, dataset, result, detection_method, y_scale=5, y_lim=None):\n",
        "    detected_seq = slice_detected_indices_into_seq(idx_detection, interval=interval)\n",
        "    t_test = result['t_test']\n",
        "    test = result['test']\n",
        "    idx_anomaly_test = result['idx_anomaly_test']\n",
        "        \n",
        "    # plot detected sequences\n",
        "    fig, axs = plt.subplots(1, 1, figsize=(18, 5), edgecolor='k')\n",
        "    fig.subplots_adjust(hspace=.4, wspace=.4)\n",
        "    axs.plot(t_test, test)\n",
        "    \n",
        "    for j in range(len(idx_anomaly_test)):\n",
        "        if j == 0:\n",
        "            axs.plot(idx_anomaly_test[j] * np.ones(20), np.linspace(-y_scale, y_scale, 20), 'r:', label='true anomalies', alpha = 0.1)\n",
        "        else:\n",
        "            axs.plot(idx_anomaly_test[j] * np.ones(20), np.linspace(-y_scale, y_scale, 20), 'r:', alpha = 0.1)\n",
        "    \n",
        "    for i in range(len(detected_seq)):\n",
        "        for j in detected_seq[i]:\n",
        "            if j == detected_seq[0][0]:\n",
        "                axs.plot((j+interval*2) * np.ones(20), np.linspace(-y_scale, -0.8*y_scale, 20), 'g:', label='detected anomalies')\n",
        "            else:\n",
        "                axs.plot((j+interval*2) * np.ones(20), np.linspace(-y_scale, -0.8*y_scale, 20), 'g:')\n",
        "    '''\n",
        "    for j in range(len(idx_anomaly_test)):\n",
        "        axs.plot(idx_anomaly_test[j] * np.ones(20), np.linspace(-y_scale, y_scale, 20), 'r:')\n",
        "    '''\n",
        "    for i in range(len(detected_seq)):\n",
        "        interval_x = np.asarray([detected_seq[i][0], detected_seq[i][-1]+interval*2])\n",
        "        interval_y = np.asarray([y_scale,y_scale])\n",
        "        if i == 0:\n",
        "            axs.fill_between(interval_x, interval_y, alpha=0.2, color='y', label='detected anomaly windows')\n",
        "        else:\n",
        "            axs.fill_between(interval_x, interval_y, alpha=0.2, color='y')\n",
        "        interval_y = np.asarray([-y_scale,-y_scale])\n",
        "        axs.fill_between(interval_x, interval_y, alpha=0.2, color='y')\n",
        "    axs.grid(True)\n",
        "    axs.set_xlim(0, len(t_test))\n",
        "    if y_lim is None:\n",
        "        axs.set_ylim(-y_scale, y_scale)\n",
        "    else:\n",
        "        axs.set_ylim(-y_scale, y_lim)\n",
        "    axs.set_xlabel(\"timestamp (every {})\".format(result['t_unit']))\n",
        "    axs.set_ylabel(\"normalised readings\")\n",
        "    axs.set_title(\"{} dataset test sequence\\n(normalised by train mean {:.4f} and std {:.4f})\\n Detection method: {}\".format(dataset, \n",
        "                                                                                        result['train_m'], \n",
        "                                                                                        result['train_std'],\n",
        "                                                                                        detection_method))\n",
        "    axs.legend()\n",
        "    savefig(config['result_dir']+'detected_anomalies_{}.pdf'.format(detection_method))"
      ],
      "execution_count": null,
      "outputs": []
    },
    {
      "cell_type": "code",
      "metadata": {
        "colab": {
          "base_uri": "https://localhost:8080/",
          "height": 398
        },
        "id": "OBcs7_jUGf15",
        "outputId": "41babaa1-f8ba-438a-ac16-8c4959508207"
      },
      "source": [
        "plot_detected_anomalies(idx_detection, \n",
        "                        interval=config['l_win']*config['l_seq']/2, \n",
        "                        dataset=dataset, \n",
        "                        result=test_result, \n",
        "                        detection_method='lstm reconstruction error',\n",
        "                        y_scale=100,\n",
        "                        y_lim=100)"
      ],
      "execution_count": null,
      "outputs": [
        {
          "output_type": "stream",
          "text": [
            "Detected 1 sequences\n"
          ],
          "name": "stdout"
        },
        {
          "output_type": "display_data",
          "data": {
            "image/png": "[encoded data removed]",
            "text/plain": [
              "<Figure size 1296x360 with 1 Axes>"
            ]
          },
          "metadata": {
            "tags": [],
            "needs_background": "light"
          }
        }
      ]
    }
  ]
}